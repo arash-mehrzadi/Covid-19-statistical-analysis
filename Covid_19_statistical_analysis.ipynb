{
  "nbformat": 4,
  "nbformat_minor": 0,
  "metadata": {
    "colab": {
      "name": "Covid_19_statistical_analysis.ipynb",
      "provenance": [],
      "mount_file_id": "1Al56UtThrCtAFmDb5NiF-w3TO9U0M9kk",
      "authorship_tag": "ABX9TyPJwol2TJGBTNrxiyM6OBAl"
    },
    "kernelspec": {
      "name": "python3",
      "display_name": "Python 3"
    }
  },
  "cells": [
    {
      "cell_type": "markdown",
      "metadata": {
        "id": "HUnaFoOxHma1",
        "colab_type": "text"
      },
      "source": [
        ""
      ]
    },
    {
      "cell_type": "code",
      "metadata": {
        "id": "dZ-Ub1hyQUEY",
        "colab_type": "code",
        "colab": {
          "base_uri": "https://localhost:8080/",
          "height": 136
        },
        "outputId": "731f964e-e527-4678-a755-beb7ec5e6c1c"
      },
      "source": [
        "! git clone https://github.com/Mgavahi/Covid-19.git\n"
      ],
      "execution_count": 8,
      "outputs": [
        {
          "output_type": "stream",
          "text": [
            "Cloning into 'Covid-19'...\n",
            "remote: Enumerating objects: 120, done.\u001b[K\n",
            "remote: Counting objects: 100% (120/120), done.\u001b[K\n",
            "remote: Compressing objects: 100% (101/101), done.\u001b[K\n",
            "remote: Total 120 (delta 48), reused 89 (delta 17), pack-reused 0\u001b[K\n",
            "Receiving objects: 100% (120/120), 93.19 KiB | 2.91 MiB/s, done.\n",
            "Resolving deltas: 100% (48/48), done.\n"
          ],
          "name": "stdout"
        }
      ]
    },
    {
      "cell_type": "code",
      "metadata": {
        "id": "AaSZlv72R3S2",
        "colab_type": "code",
        "colab": {
          "base_uri": "https://localhost:8080/",
          "height": 34
        },
        "outputId": "2a863b54-d78f-4e24-ab5b-1ae99cd40549"
      },
      "source": [
        "cd /content/drive/My Drive/Covid-19/data"
      ],
      "execution_count": 1,
      "outputs": [
        {
          "output_type": "stream",
          "text": [
            "/content/drive/My Drive/Covid-19/data\n"
          ],
          "name": "stdout"
        }
      ]
    },
    {
      "cell_type": "code",
      "metadata": {
        "id": "ys62nG_jH0gJ",
        "colab_type": "code",
        "colab": {}
      },
      "source": [
        "import pandas as pd"
      ],
      "execution_count": 0,
      "outputs": []
    },
    {
      "cell_type": "code",
      "metadata": {
        "id": "OLHJm-1SR_RJ",
        "colab_type": "code",
        "colab": {}
      },
      "source": [
        "irandataT = pd.read_csv('Iran(2020-03-24).csv')"
      ],
      "execution_count": 0,
      "outputs": []
    },
    {
      "cell_type": "code",
      "metadata": {
        "id": "nPFIId2nSTGr",
        "colab_type": "code",
        "colab": {
          "base_uri": "https://localhost:8080/",
          "height": 323
        },
        "outputId": "2ab4ad7c-2a07-4142-8ea6-5f6b093a0c19"
      },
      "source": [
        "irandataT"
      ],
      "execution_count": 34,
      "outputs": [
        {
          "output_type": "stream",
          "text": [
            "   country        date  confirmed  deaths  recovered  Active\n",
            "0     Iran  2020-02-28        388      34         73     281\n",
            "1     Iran  2020-02-29        593      43        123     427\n",
            "2     Iran  2020-03-10       8042     291       2731    5020\n",
            "3     Iran  2020-03-11       9000     354       2959    5687\n",
            "4     Iran  2020-03-12      10075     429       2959    6687\n",
            "5     Iran  2020-03-13      11364     514       2959    7891\n",
            "6     Iran  2020-03-14      12729     611       2959    9159\n",
            "7     Iran  2020-03-15      13938     724       4590    8624\n",
            "8     Iran  2020-03-16      14991     853       4590    9548\n",
            "9     Iran  2020-03-17      16169     988       5389    9792\n",
            "10    Iran  2020-03-18      17361    1135       5389   10837\n",
            "11    Iran  2020-03-19      18407    1284       5710   11413\n",
            "12    Iran  2020-03-20      19644    1433       6745   11466\n",
            "13    Iran  2020-03-21      20610    1556       7635   11419\n",
            "14    Iran  2020-03-22      21638    1685       7931   12022\n",
            "15    Iran  2020-03-23      23049    1812       7931   13306\n",
            "16    Iran  2020-03-24      24811    1934       8913   13964\n"
          ],
          "name": "stdout"
        }
      ]
    },
    {
      "cell_type": "code",
      "metadata": {
        "id": "GG6lYJMySd3w",
        "colab_type": "code",
        "colab": {
          "base_uri": "https://localhost:8080/",
          "height": 221
        },
        "outputId": "2cec66c6-b279-4eb9-ce32-5c5fc527f11b"
      },
      "source": [
        "irandataT.info()"
      ],
      "execution_count": 35,
      "outputs": [
        {
          "output_type": "stream",
          "text": [
            "<class 'pandas.core.frame.DataFrame'>\n",
            "RangeIndex: 17 entries, 0 to 16\n",
            "Data columns (total 6 columns):\n",
            "country      17 non-null object\n",
            "date         17 non-null object\n",
            "confirmed    17 non-null int64\n",
            "deaths       17 non-null int64\n",
            "recovered    17 non-null int64\n",
            "Active       17 non-null int64\n",
            "dtypes: int64(4), object(2)\n",
            "memory usage: 944.0+ bytes\n",
            "None\n"
          ],
          "name": "stdout"
        }
      ]
    },
    {
      "cell_type": "code",
      "metadata": {
        "id": "MGIzWp9gSgp4",
        "colab_type": "code",
        "colab": {}
      },
      "source": [
        "irandataT['Active']= irandataT['confirmed']-irandataT['deaths']-irandataT['recovered']"
      ],
      "execution_count": 0,
      "outputs": []
    },
    {
      "cell_type": "code",
      "metadata": {
        "id": "x6oqrhQpTIQl",
        "colab_type": "code",
        "colab": {
          "base_uri": "https://localhost:8080/",
          "height": 323
        },
        "outputId": "6abddc1e-3882-4856-8eb4-cb7465478d01"
      },
      "source": [
        "irandataT['Active']"
      ],
      "execution_count": 8,
      "outputs": [
        {
          "output_type": "execute_result",
          "data": {
            "text/plain": [
              "0       281\n",
              "1       427\n",
              "2      5020\n",
              "3      5687\n",
              "4      6687\n",
              "5      7891\n",
              "6      9159\n",
              "7      8624\n",
              "8      9548\n",
              "9      9792\n",
              "10    10837\n",
              "11    11413\n",
              "12    11466\n",
              "13    11419\n",
              "14    12022\n",
              "15    13306\n",
              "16    13964\n",
              "Name: Active, dtype: int64"
            ]
          },
          "metadata": {
            "tags": []
          },
          "execution_count": 8
        }
      ]
    },
    {
      "cell_type": "code",
      "metadata": {
        "id": "Zxjy5ZvJY51C",
        "colab_type": "code",
        "colab": {
          "base_uri": "https://localhost:8080/",
          "height": 275
        },
        "outputId": "d1c32f58-0a88-4ab9-ab29-1ff953b434d0"
      },
      "source": [
        "pip install calmap"
      ],
      "execution_count": 19,
      "outputs": [
        {
          "output_type": "stream",
          "text": [
            "Collecting calmap\n",
            "  Downloading https://files.pythonhosted.org/packages/60/7a/3340f348c4826fad190a265290ade1b7fbfbb311c84e27d82fb43e12d579/calmap-0.0.7-py2.py3-none-any.whl\n",
            "Requirement already satisfied: matplotlib in /usr/local/lib/python3.6/dist-packages (from calmap) (3.2.1)\n",
            "Requirement already satisfied: pandas in /usr/local/lib/python3.6/dist-packages (from calmap) (0.25.3)\n",
            "Requirement already satisfied: numpy in /usr/local/lib/python3.6/dist-packages (from calmap) (1.18.2)\n",
            "Requirement already satisfied: kiwisolver>=1.0.1 in /usr/local/lib/python3.6/dist-packages (from matplotlib->calmap) (1.1.0)\n",
            "Requirement already satisfied: python-dateutil>=2.1 in /usr/local/lib/python3.6/dist-packages (from matplotlib->calmap) (2.8.1)\n",
            "Requirement already satisfied: pyparsing!=2.0.4,!=2.1.2,!=2.1.6,>=2.0.1 in /usr/local/lib/python3.6/dist-packages (from matplotlib->calmap) (2.4.6)\n",
            "Requirement already satisfied: cycler>=0.10 in /usr/local/lib/python3.6/dist-packages (from matplotlib->calmap) (0.10.0)\n",
            "Requirement already satisfied: pytz>=2017.2 in /usr/local/lib/python3.6/dist-packages (from pandas->calmap) (2018.9)\n",
            "Requirement already satisfied: setuptools in /usr/local/lib/python3.6/dist-packages (from kiwisolver>=1.0.1->matplotlib->calmap) (46.0.0)\n",
            "Requirement already satisfied: six>=1.5 in /usr/local/lib/python3.6/dist-packages (from python-dateutil>=2.1->matplotlib->calmap) (1.12.0)\n",
            "Installing collected packages: calmap\n",
            "Successfully installed calmap-0.0.7\n"
          ],
          "name": "stdout"
        }
      ]
    },
    {
      "cell_type": "code",
      "metadata": {
        "id": "J0X2vPRAY3Zt",
        "colab_type": "code",
        "colab": {}
      },
      "source": [
        "import calmap"
      ],
      "execution_count": 0,
      "outputs": []
    },
    {
      "cell_type": "code",
      "metadata": {
        "id": "JHPAl6PsYOBS",
        "colab_type": "code",
        "colab": {
          "base_uri": "https://localhost:8080/",
          "height": 61
        },
        "outputId": "27f28b14-08ee-436f-9f00-5459fb377389"
      },
      "source": [
        "temp = irandataT.groupby('date')['Active', 'deaths', 'recovered'].sum().reset_index()\n",
        "temp = temp[temp['date']==max(temp['date'])].reset_index(drop=True)\n",
        "temp.style.background_gradient(cmap='Pastel1')"
      ],
      "execution_count": 10,
      "outputs": [
        {
          "output_type": "execute_result",
          "data": {
            "text/html": [
              "<style  type=\"text/css\" >\n",
              "    #T_5fbaf652_6f50_11ea_a46c_0242ac1c0002row0_col1 {\n",
              "            background-color:  #fbb4ae;\n",
              "            color:  #000000;\n",
              "        }    #T_5fbaf652_6f50_11ea_a46c_0242ac1c0002row0_col2 {\n",
              "            background-color:  #fbb4ae;\n",
              "            color:  #000000;\n",
              "        }    #T_5fbaf652_6f50_11ea_a46c_0242ac1c0002row0_col3 {\n",
              "            background-color:  #fbb4ae;\n",
              "            color:  #000000;\n",
              "        }</style><table id=\"T_5fbaf652_6f50_11ea_a46c_0242ac1c0002\" ><thead>    <tr>        <th class=\"blank level0\" ></th>        <th class=\"col_heading level0 col0\" >date</th>        <th class=\"col_heading level0 col1\" >Active</th>        <th class=\"col_heading level0 col2\" >deaths</th>        <th class=\"col_heading level0 col3\" >recovered</th>    </tr></thead><tbody>\n",
              "                <tr>\n",
              "                        <th id=\"T_5fbaf652_6f50_11ea_a46c_0242ac1c0002level0_row0\" class=\"row_heading level0 row0\" >0</th>\n",
              "                        <td id=\"T_5fbaf652_6f50_11ea_a46c_0242ac1c0002row0_col0\" class=\"data row0 col0\" >2020-03-24</td>\n",
              "                        <td id=\"T_5fbaf652_6f50_11ea_a46c_0242ac1c0002row0_col1\" class=\"data row0 col1\" >13964</td>\n",
              "                        <td id=\"T_5fbaf652_6f50_11ea_a46c_0242ac1c0002row0_col2\" class=\"data row0 col2\" >1934</td>\n",
              "                        <td id=\"T_5fbaf652_6f50_11ea_a46c_0242ac1c0002row0_col3\" class=\"data row0 col3\" >8913</td>\n",
              "            </tr>\n",
              "    </tbody></table>"
            ],
            "text/plain": [
              "<pandas.io.formats.style.Styler at 0x7fb8415369e8>"
            ]
          },
          "metadata": {
            "tags": []
          },
          "execution_count": 10
        }
      ]
    },
    {
      "cell_type": "code",
      "metadata": {
        "id": "Fz63VCnCX_BT",
        "colab_type": "code",
        "colab": {}
      },
      "source": [
        "tm = temp.melt(id_vars=\"date\", value_vars=['Active', 'deaths', 'recovered'])"
      ],
      "execution_count": 0,
      "outputs": []
    },
    {
      "cell_type": "code",
      "metadata": {
        "id": "9UEjQiswej9C",
        "colab_type": "code",
        "colab": {
          "base_uri": "https://localhost:8080/",
          "height": 88
        },
        "outputId": "4217ebdc-69e3-490a-82ac-054d15824b5b"
      },
      "source": [
        "pip install plotly==4.5.4"
      ],
      "execution_count": 3,
      "outputs": [
        {
          "output_type": "stream",
          "text": [
            "Requirement already satisfied: plotly==4.5.4 in /usr/local/lib/python3.6/dist-packages (4.5.4)\n",
            "Requirement already satisfied: retrying>=1.3.3 in /usr/local/lib/python3.6/dist-packages (from plotly==4.5.4) (1.3.3)\n",
            "Requirement already satisfied: six in /usr/local/lib/python3.6/dist-packages (from plotly==4.5.4) (1.12.0)\n"
          ],
          "name": "stdout"
        }
      ]
    },
    {
      "cell_type": "code",
      "metadata": {
        "id": "TbUMZxF1ZulY",
        "colab_type": "code",
        "colab": {}
      },
      "source": [
        "import plotly.express as px"
      ],
      "execution_count": 0,
      "outputs": []
    },
    {
      "cell_type": "code",
      "metadata": {
        "id": "Jy9MdDFKZiX5",
        "colab_type": "code",
        "colab": {}
      },
      "source": [
        "dth = '#ff2e63'\n",
        "rec = '#21bf73' \n",
        "act = '#fe9801'"
      ],
      "execution_count": 0,
      "outputs": []
    },
    {
      "cell_type": "code",
      "metadata": {
        "id": "UV3HGeDJZTH4",
        "colab_type": "code",
        "colab": {}
      },
      "source": [
        "fig = px.treemap(tm, path=[\"variable\"], values=\"value\", height=400, width=600, color_discrete_sequence=[rec, act, dth])"
      ],
      "execution_count": 0,
      "outputs": []
    },
    {
      "cell_type": "code",
      "metadata": {
        "id": "UoIWCt9NaWkj",
        "colab_type": "code",
        "colab": {
          "base_uri": "https://localhost:8080/",
          "height": 417
        },
        "outputId": "22ed98fb-480c-4735-c495-84ea4322f4cd"
      },
      "source": [
        "fig.show()"
      ],
      "execution_count": 15,
      "outputs": [
        {
          "output_type": "display_data",
          "data": {
            "text/html": [
              "<html>\n",
              "<head><meta charset=\"utf-8\" /></head>\n",
              "<body>\n",
              "    <div>\n",
              "            <script src=\"https://cdnjs.cloudflare.com/ajax/libs/mathjax/2.7.5/MathJax.js?config=TeX-AMS-MML_SVG\"></script><script type=\"text/javascript\">if (window.MathJax) {MathJax.Hub.Config({SVG: {font: \"STIX-Web\"}});}</script>\n",
              "                <script type=\"text/javascript\">window.PlotlyConfig = {MathJaxConfig: 'local'};</script>\n",
              "        <script src=\"https://cdn.plot.ly/plotly-latest.min.js\"></script>    \n",
              "            <div id=\"70db8298-446f-406a-9368-1e002882e5e8\" class=\"plotly-graph-div\" style=\"height:400px; width:600px;\"></div>\n",
              "            <script type=\"text/javascript\">\n",
              "                \n",
              "                    window.PLOTLYENV=window.PLOTLYENV || {};\n",
              "                    \n",
              "                if (document.getElementById(\"70db8298-446f-406a-9368-1e002882e5e8\")) {\n",
              "                    Plotly.newPlot(\n",
              "                        '70db8298-446f-406a-9368-1e002882e5e8',\n",
              "                        [{\"branchvalues\": \"total\", \"domain\": {\"x\": [0.0, 1.0], \"y\": [0.0, 1.0]}, \"hoverlabel\": {\"namelength\": 0}, \"hovertemplate\": \"labels=%{label}<br>value=%{value}<br>parent=%{parent}<br>id=%{id}\", \"ids\": [\"Active\", \"deaths\", \"recovered\"], \"labels\": [\"Active\", \"deaths\", \"recovered\"], \"name\": \"\", \"parents\": [\"\", \"\", \"\"], \"type\": \"treemap\", \"values\": [13964, 1934, 8913]}],\n",
              "                        {\"height\": 400, \"legend\": {\"tracegroupgap\": 0}, \"margin\": {\"t\": 60}, \"template\": {\"data\": {\"bar\": [{\"error_x\": {\"color\": \"#2a3f5f\"}, \"error_y\": {\"color\": \"#2a3f5f\"}, \"marker\": {\"line\": {\"color\": \"#E5ECF6\", \"width\": 0.5}}, \"type\": \"bar\"}], \"barpolar\": [{\"marker\": {\"line\": {\"color\": \"#E5ECF6\", \"width\": 0.5}}, \"type\": \"barpolar\"}], \"carpet\": [{\"aaxis\": {\"endlinecolor\": \"#2a3f5f\", \"gridcolor\": \"white\", \"linecolor\": \"white\", \"minorgridcolor\": \"white\", \"startlinecolor\": \"#2a3f5f\"}, \"baxis\": {\"endlinecolor\": \"#2a3f5f\", \"gridcolor\": \"white\", \"linecolor\": \"white\", \"minorgridcolor\": \"white\", \"startlinecolor\": \"#2a3f5f\"}, \"type\": \"carpet\"}], \"choropleth\": [{\"colorbar\": {\"outlinewidth\": 0, \"ticks\": \"\"}, \"type\": \"choropleth\"}], \"contour\": [{\"colorbar\": {\"outlinewidth\": 0, \"ticks\": \"\"}, \"colorscale\": [[0.0, \"#0d0887\"], [0.1111111111111111, \"#46039f\"], [0.2222222222222222, \"#7201a8\"], [0.3333333333333333, \"#9c179e\"], [0.4444444444444444, \"#bd3786\"], [0.5555555555555556, \"#d8576b\"], [0.6666666666666666, \"#ed7953\"], [0.7777777777777778, \"#fb9f3a\"], [0.8888888888888888, \"#fdca26\"], [1.0, \"#f0f921\"]], \"type\": \"contour\"}], \"contourcarpet\": [{\"colorbar\": {\"outlinewidth\": 0, \"ticks\": \"\"}, \"type\": \"contourcarpet\"}], \"heatmap\": [{\"colorbar\": {\"outlinewidth\": 0, \"ticks\": \"\"}, \"colorscale\": [[0.0, \"#0d0887\"], [0.1111111111111111, \"#46039f\"], [0.2222222222222222, \"#7201a8\"], [0.3333333333333333, \"#9c179e\"], [0.4444444444444444, \"#bd3786\"], [0.5555555555555556, \"#d8576b\"], [0.6666666666666666, \"#ed7953\"], [0.7777777777777778, \"#fb9f3a\"], [0.8888888888888888, \"#fdca26\"], [1.0, \"#f0f921\"]], \"type\": \"heatmap\"}], \"heatmapgl\": [{\"colorbar\": {\"outlinewidth\": 0, \"ticks\": \"\"}, \"colorscale\": [[0.0, \"#0d0887\"], [0.1111111111111111, \"#46039f\"], [0.2222222222222222, \"#7201a8\"], [0.3333333333333333, \"#9c179e\"], [0.4444444444444444, \"#bd3786\"], [0.5555555555555556, \"#d8576b\"], [0.6666666666666666, \"#ed7953\"], [0.7777777777777778, \"#fb9f3a\"], [0.8888888888888888, \"#fdca26\"], [1.0, \"#f0f921\"]], \"type\": \"heatmapgl\"}], \"histogram\": [{\"marker\": {\"colorbar\": {\"outlinewidth\": 0, \"ticks\": \"\"}}, \"type\": \"histogram\"}], \"histogram2d\": [{\"colorbar\": {\"outlinewidth\": 0, \"ticks\": \"\"}, \"colorscale\": [[0.0, \"#0d0887\"], [0.1111111111111111, \"#46039f\"], [0.2222222222222222, \"#7201a8\"], [0.3333333333333333, \"#9c179e\"], [0.4444444444444444, \"#bd3786\"], [0.5555555555555556, \"#d8576b\"], [0.6666666666666666, \"#ed7953\"], [0.7777777777777778, \"#fb9f3a\"], [0.8888888888888888, \"#fdca26\"], [1.0, \"#f0f921\"]], \"type\": \"histogram2d\"}], \"histogram2dcontour\": [{\"colorbar\": {\"outlinewidth\": 0, \"ticks\": \"\"}, \"colorscale\": [[0.0, \"#0d0887\"], [0.1111111111111111, \"#46039f\"], [0.2222222222222222, \"#7201a8\"], [0.3333333333333333, \"#9c179e\"], [0.4444444444444444, \"#bd3786\"], [0.5555555555555556, \"#d8576b\"], [0.6666666666666666, \"#ed7953\"], [0.7777777777777778, \"#fb9f3a\"], [0.8888888888888888, \"#fdca26\"], [1.0, \"#f0f921\"]], \"type\": \"histogram2dcontour\"}], \"mesh3d\": [{\"colorbar\": {\"outlinewidth\": 0, \"ticks\": \"\"}, \"type\": \"mesh3d\"}], \"parcoords\": [{\"line\": {\"colorbar\": {\"outlinewidth\": 0, \"ticks\": \"\"}}, \"type\": \"parcoords\"}], \"pie\": [{\"automargin\": true, \"type\": \"pie\"}], \"scatter\": [{\"marker\": {\"colorbar\": {\"outlinewidth\": 0, \"ticks\": \"\"}}, \"type\": \"scatter\"}], \"scatter3d\": [{\"line\": {\"colorbar\": {\"outlinewidth\": 0, \"ticks\": \"\"}}, \"marker\": {\"colorbar\": {\"outlinewidth\": 0, \"ticks\": \"\"}}, \"type\": \"scatter3d\"}], \"scattercarpet\": [{\"marker\": {\"colorbar\": {\"outlinewidth\": 0, \"ticks\": \"\"}}, \"type\": \"scattercarpet\"}], \"scattergeo\": [{\"marker\": {\"colorbar\": {\"outlinewidth\": 0, \"ticks\": \"\"}}, \"type\": \"scattergeo\"}], \"scattergl\": [{\"marker\": {\"colorbar\": {\"outlinewidth\": 0, \"ticks\": \"\"}}, \"type\": \"scattergl\"}], \"scattermapbox\": [{\"marker\": {\"colorbar\": {\"outlinewidth\": 0, \"ticks\": \"\"}}, \"type\": \"scattermapbox\"}], \"scatterpolar\": [{\"marker\": {\"colorbar\": {\"outlinewidth\": 0, \"ticks\": \"\"}}, \"type\": \"scatterpolar\"}], \"scatterpolargl\": [{\"marker\": {\"colorbar\": {\"outlinewidth\": 0, \"ticks\": \"\"}}, \"type\": \"scatterpolargl\"}], \"scatterternary\": [{\"marker\": {\"colorbar\": {\"outlinewidth\": 0, \"ticks\": \"\"}}, \"type\": \"scatterternary\"}], \"surface\": [{\"colorbar\": {\"outlinewidth\": 0, \"ticks\": \"\"}, \"colorscale\": [[0.0, \"#0d0887\"], [0.1111111111111111, \"#46039f\"], [0.2222222222222222, \"#7201a8\"], [0.3333333333333333, \"#9c179e\"], [0.4444444444444444, \"#bd3786\"], [0.5555555555555556, \"#d8576b\"], [0.6666666666666666, \"#ed7953\"], [0.7777777777777778, \"#fb9f3a\"], [0.8888888888888888, \"#fdca26\"], [1.0, \"#f0f921\"]], \"type\": \"surface\"}], \"table\": [{\"cells\": {\"fill\": {\"color\": \"#EBF0F8\"}, \"line\": {\"color\": \"white\"}}, \"header\": {\"fill\": {\"color\": \"#C8D4E3\"}, \"line\": {\"color\": \"white\"}}, \"type\": \"table\"}]}, \"layout\": {\"annotationdefaults\": {\"arrowcolor\": \"#2a3f5f\", \"arrowhead\": 0, \"arrowwidth\": 1}, \"coloraxis\": {\"colorbar\": {\"outlinewidth\": 0, \"ticks\": \"\"}}, \"colorscale\": {\"diverging\": [[0, \"#8e0152\"], [0.1, \"#c51b7d\"], [0.2, \"#de77ae\"], [0.3, \"#f1b6da\"], [0.4, \"#fde0ef\"], [0.5, \"#f7f7f7\"], [0.6, \"#e6f5d0\"], [0.7, \"#b8e186\"], [0.8, \"#7fbc41\"], [0.9, \"#4d9221\"], [1, \"#276419\"]], \"sequential\": [[0.0, \"#0d0887\"], [0.1111111111111111, \"#46039f\"], [0.2222222222222222, \"#7201a8\"], [0.3333333333333333, \"#9c179e\"], [0.4444444444444444, \"#bd3786\"], [0.5555555555555556, \"#d8576b\"], [0.6666666666666666, \"#ed7953\"], [0.7777777777777778, \"#fb9f3a\"], [0.8888888888888888, \"#fdca26\"], [1.0, \"#f0f921\"]], \"sequentialminus\": [[0.0, \"#0d0887\"], [0.1111111111111111, \"#46039f\"], [0.2222222222222222, \"#7201a8\"], [0.3333333333333333, \"#9c179e\"], [0.4444444444444444, \"#bd3786\"], [0.5555555555555556, \"#d8576b\"], [0.6666666666666666, \"#ed7953\"], [0.7777777777777778, \"#fb9f3a\"], [0.8888888888888888, \"#fdca26\"], [1.0, \"#f0f921\"]]}, \"colorway\": [\"#636efa\", \"#EF553B\", \"#00cc96\", \"#ab63fa\", \"#FFA15A\", \"#19d3f3\", \"#FF6692\", \"#B6E880\", \"#FF97FF\", \"#FECB52\"], \"font\": {\"color\": \"#2a3f5f\"}, \"geo\": {\"bgcolor\": \"white\", \"lakecolor\": \"white\", \"landcolor\": \"#E5ECF6\", \"showlakes\": true, \"showland\": true, \"subunitcolor\": \"white\"}, \"hoverlabel\": {\"align\": \"left\"}, \"hovermode\": \"closest\", \"mapbox\": {\"style\": \"light\"}, \"paper_bgcolor\": \"white\", \"plot_bgcolor\": \"#E5ECF6\", \"polar\": {\"angularaxis\": {\"gridcolor\": \"white\", \"linecolor\": \"white\", \"ticks\": \"\"}, \"bgcolor\": \"#E5ECF6\", \"radialaxis\": {\"gridcolor\": \"white\", \"linecolor\": \"white\", \"ticks\": \"\"}}, \"scene\": {\"xaxis\": {\"backgroundcolor\": \"#E5ECF6\", \"gridcolor\": \"white\", \"gridwidth\": 2, \"linecolor\": \"white\", \"showbackground\": true, \"ticks\": \"\", \"zerolinecolor\": \"white\"}, \"yaxis\": {\"backgroundcolor\": \"#E5ECF6\", \"gridcolor\": \"white\", \"gridwidth\": 2, \"linecolor\": \"white\", \"showbackground\": true, \"ticks\": \"\", \"zerolinecolor\": \"white\"}, \"zaxis\": {\"backgroundcolor\": \"#E5ECF6\", \"gridcolor\": \"white\", \"gridwidth\": 2, \"linecolor\": \"white\", \"showbackground\": true, \"ticks\": \"\", \"zerolinecolor\": \"white\"}}, \"shapedefaults\": {\"line\": {\"color\": \"#2a3f5f\"}}, \"ternary\": {\"aaxis\": {\"gridcolor\": \"white\", \"linecolor\": \"white\", \"ticks\": \"\"}, \"baxis\": {\"gridcolor\": \"white\", \"linecolor\": \"white\", \"ticks\": \"\"}, \"bgcolor\": \"#E5ECF6\", \"caxis\": {\"gridcolor\": \"white\", \"linecolor\": \"white\", \"ticks\": \"\"}}, \"title\": {\"x\": 0.05}, \"xaxis\": {\"automargin\": true, \"gridcolor\": \"white\", \"linecolor\": \"white\", \"ticks\": \"\", \"title\": {\"standoff\": 15}, \"zerolinecolor\": \"white\", \"zerolinewidth\": 2}, \"yaxis\": {\"automargin\": true, \"gridcolor\": \"white\", \"linecolor\": \"white\", \"ticks\": \"\", \"title\": {\"standoff\": 15}, \"zerolinecolor\": \"white\", \"zerolinewidth\": 2}}}, \"treemapcolorway\": [\"#21bf73\", \"#fe9801\", \"#ff2e63\"], \"width\": 600},\n",
              "                        {\"responsive\": true}\n",
              "                    ).then(function(){\n",
              "                            \n",
              "var gd = document.getElementById('70db8298-446f-406a-9368-1e002882e5e8');\n",
              "var x = new MutationObserver(function (mutations, observer) {{\n",
              "        var display = window.getComputedStyle(gd).display;\n",
              "        if (!display || display === 'none') {{\n",
              "            console.log([gd, 'removed!']);\n",
              "            Plotly.purge(gd);\n",
              "            observer.disconnect();\n",
              "        }}\n",
              "}});\n",
              "\n",
              "// Listen for the removal of the full notebook cells\n",
              "var notebookContainer = gd.closest('#notebook-container');\n",
              "if (notebookContainer) {{\n",
              "    x.observe(notebookContainer, {childList: true});\n",
              "}}\n",
              "\n",
              "// Listen for the clearing of the current output cell\n",
              "var outputEl = gd.closest('.output');\n",
              "if (outputEl) {{\n",
              "    x.observe(outputEl, {childList: true});\n",
              "}}\n",
              "\n",
              "                        })\n",
              "                };\n",
              "                \n",
              "            </script>\n",
              "        </div>\n",
              "</body>\n",
              "</html>"
            ]
          },
          "metadata": {
            "tags": []
          }
        }
      ]
    },
    {
      "cell_type": "code",
      "metadata": {
        "id": "42-o1ONZfOPC",
        "colab_type": "code",
        "colab": {}
      },
      "source": [
        "irandataT_pvi = pd.read_csv(\"province(iran)(2020-03-22).csv\")"
      ],
      "execution_count": 0,
      "outputs": []
    },
    {
      "cell_type": "code",
      "metadata": {
        "id": "fbNaTDW1jtGX",
        "colab_type": "code",
        "colab": {
          "base_uri": "https://localhost:8080/",
          "height": 224
        },
        "outputId": "54259f3d-c318-451a-aafe-a59e127b843c"
      },
      "source": [
        "irandataT_pvi.head()"
      ],
      "execution_count": 20,
      "outputs": [
        {
          "output_type": "execute_result",
          "data": {
            "text/html": [
              "<div>\n",
              "<style scoped>\n",
              "    .dataframe tbody tr th:only-of-type {\n",
              "        vertical-align: middle;\n",
              "    }\n",
              "\n",
              "    .dataframe tbody tr th {\n",
              "        vertical-align: top;\n",
              "    }\n",
              "\n",
              "    .dataframe thead th {\n",
              "        text-align: right;\n",
              "    }\n",
              "</style>\n",
              "<table border=\"1\" class=\"dataframe\">\n",
              "  <thead>\n",
              "    <tr style=\"text-align: right;\">\n",
              "      <th></th>\n",
              "      <th>Date</th>\n",
              "      <th>Qom</th>\n",
              "      <th>Tehran</th>\n",
              "      <th>Mazandaran</th>\n",
              "      <th>Alburz</th>\n",
              "      <th>Semnan</th>\n",
              "      <th>Golestan</th>\n",
              "      <th>Qazvin</th>\n",
              "      <th>Esfahan</th>\n",
              "      <th>Fars</th>\n",
              "      <th>Hormozgan</th>\n",
              "      <th>Koh_boyr</th>\n",
              "      <th>Charmahal</th>\n",
              "      <th>Bushehr</th>\n",
              "      <th>Gilan</th>\n",
              "      <th>Ardebil</th>\n",
              "      <th>East_Azerbaijan</th>\n",
              "      <th>West_Azerbaijan</th>\n",
              "      <th>Kurdestan</th>\n",
              "      <th>Zanjan</th>\n",
              "      <th>Markazi</th>\n",
              "      <th>Hamedan</th>\n",
              "      <th>Khuzistan</th>\n",
              "      <th>Kermanshah</th>\n",
              "      <th>Lorstan</th>\n",
              "      <th>Ilam</th>\n",
              "      <th>Razavi_Khr</th>\n",
              "      <th>Sis_baluchestan</th>\n",
              "      <th>Yazd</th>\n",
              "      <th>South_Khs</th>\n",
              "      <th>Kerman</th>\n",
              "      <th>North_Khn</th>\n",
              "    </tr>\n",
              "  </thead>\n",
              "  <tbody>\n",
              "    <tr>\n",
              "      <th>0</th>\n",
              "      <td>2020/02/19</td>\n",
              "      <td>2.0</td>\n",
              "      <td>NaN</td>\n",
              "      <td>NaN</td>\n",
              "      <td>NaN</td>\n",
              "      <td>NaN</td>\n",
              "      <td>NaN</td>\n",
              "      <td>NaN</td>\n",
              "      <td>NaN</td>\n",
              "      <td>NaN</td>\n",
              "      <td>NaN</td>\n",
              "      <td>NaN</td>\n",
              "      <td>NaN</td>\n",
              "      <td>NaN</td>\n",
              "      <td>NaN</td>\n",
              "      <td>NaN</td>\n",
              "      <td>NaN</td>\n",
              "      <td>NaN</td>\n",
              "      <td>NaN</td>\n",
              "      <td>NaN</td>\n",
              "      <td>NaN</td>\n",
              "      <td>NaN</td>\n",
              "      <td>NaN</td>\n",
              "      <td>NaN</td>\n",
              "      <td>NaN</td>\n",
              "      <td>NaN</td>\n",
              "      <td>NaN</td>\n",
              "      <td>NaN</td>\n",
              "      <td>NaN</td>\n",
              "      <td>NaN</td>\n",
              "      <td>NaN</td>\n",
              "      <td>NaN</td>\n",
              "    </tr>\n",
              "    <tr>\n",
              "      <th>1</th>\n",
              "      <td>2020/02/20</td>\n",
              "      <td>2.0</td>\n",
              "      <td>NaN</td>\n",
              "      <td>NaN</td>\n",
              "      <td>NaN</td>\n",
              "      <td>NaN</td>\n",
              "      <td>NaN</td>\n",
              "      <td>NaN</td>\n",
              "      <td>NaN</td>\n",
              "      <td>NaN</td>\n",
              "      <td>NaN</td>\n",
              "      <td>NaN</td>\n",
              "      <td>NaN</td>\n",
              "      <td>NaN</td>\n",
              "      <td>NaN</td>\n",
              "      <td>NaN</td>\n",
              "      <td>NaN</td>\n",
              "      <td>NaN</td>\n",
              "      <td>NaN</td>\n",
              "      <td>NaN</td>\n",
              "      <td>1.0</td>\n",
              "      <td>NaN</td>\n",
              "      <td>NaN</td>\n",
              "      <td>NaN</td>\n",
              "      <td>NaN</td>\n",
              "      <td>NaN</td>\n",
              "      <td>NaN</td>\n",
              "      <td>NaN</td>\n",
              "      <td>NaN</td>\n",
              "      <td>NaN</td>\n",
              "      <td>NaN</td>\n",
              "      <td>NaN</td>\n",
              "    </tr>\n",
              "    <tr>\n",
              "      <th>2</th>\n",
              "      <td>2020/02/21</td>\n",
              "      <td>7.0</td>\n",
              "      <td>4.0</td>\n",
              "      <td>NaN</td>\n",
              "      <td>NaN</td>\n",
              "      <td>NaN</td>\n",
              "      <td>NaN</td>\n",
              "      <td>NaN</td>\n",
              "      <td>NaN</td>\n",
              "      <td>NaN</td>\n",
              "      <td>NaN</td>\n",
              "      <td>NaN</td>\n",
              "      <td>NaN</td>\n",
              "      <td>NaN</td>\n",
              "      <td>2.0</td>\n",
              "      <td>NaN</td>\n",
              "      <td>NaN</td>\n",
              "      <td>NaN</td>\n",
              "      <td>NaN</td>\n",
              "      <td>NaN</td>\n",
              "      <td>NaN</td>\n",
              "      <td>NaN</td>\n",
              "      <td>NaN</td>\n",
              "      <td>NaN</td>\n",
              "      <td>NaN</td>\n",
              "      <td>NaN</td>\n",
              "      <td>NaN</td>\n",
              "      <td>NaN</td>\n",
              "      <td>NaN</td>\n",
              "      <td>NaN</td>\n",
              "      <td>NaN</td>\n",
              "      <td>NaN</td>\n",
              "    </tr>\n",
              "    <tr>\n",
              "      <th>3</th>\n",
              "      <td>2020/02/22</td>\n",
              "      <td>8.0</td>\n",
              "      <td>2.0</td>\n",
              "      <td>NaN</td>\n",
              "      <td>NaN</td>\n",
              "      <td>NaN</td>\n",
              "      <td>NaN</td>\n",
              "      <td>NaN</td>\n",
              "      <td>NaN</td>\n",
              "      <td>NaN</td>\n",
              "      <td>NaN</td>\n",
              "      <td>NaN</td>\n",
              "      <td>NaN</td>\n",
              "      <td>NaN</td>\n",
              "      <td>NaN</td>\n",
              "      <td>NaN</td>\n",
              "      <td>NaN</td>\n",
              "      <td>NaN</td>\n",
              "      <td>NaN</td>\n",
              "      <td>NaN</td>\n",
              "      <td>NaN</td>\n",
              "      <td>NaN</td>\n",
              "      <td>NaN</td>\n",
              "      <td>NaN</td>\n",
              "      <td>NaN</td>\n",
              "      <td>NaN</td>\n",
              "      <td>NaN</td>\n",
              "      <td>NaN</td>\n",
              "      <td>NaN</td>\n",
              "      <td>NaN</td>\n",
              "      <td>NaN</td>\n",
              "      <td>NaN</td>\n",
              "    </tr>\n",
              "    <tr>\n",
              "      <th>4</th>\n",
              "      <td>2020/02/23</td>\n",
              "      <td>7.0</td>\n",
              "      <td>4.0</td>\n",
              "      <td>1.0</td>\n",
              "      <td>NaN</td>\n",
              "      <td>NaN</td>\n",
              "      <td>NaN</td>\n",
              "      <td>NaN</td>\n",
              "      <td>NaN</td>\n",
              "      <td>NaN</td>\n",
              "      <td>NaN</td>\n",
              "      <td>NaN</td>\n",
              "      <td>NaN</td>\n",
              "      <td>NaN</td>\n",
              "      <td>2.0</td>\n",
              "      <td>NaN</td>\n",
              "      <td>NaN</td>\n",
              "      <td>NaN</td>\n",
              "      <td>NaN</td>\n",
              "      <td>NaN</td>\n",
              "      <td>1.0</td>\n",
              "      <td>NaN</td>\n",
              "      <td>NaN</td>\n",
              "      <td>NaN</td>\n",
              "      <td>NaN</td>\n",
              "      <td>NaN</td>\n",
              "      <td>NaN</td>\n",
              "      <td>NaN</td>\n",
              "      <td>NaN</td>\n",
              "      <td>NaN</td>\n",
              "      <td>NaN</td>\n",
              "      <td>NaN</td>\n",
              "    </tr>\n",
              "  </tbody>\n",
              "</table>\n",
              "</div>"
            ],
            "text/plain": [
              "         Date  Qom  Tehran  Mazandaran  ...  Yazd  South_Khs  Kerman  North_Khn\n",
              "0  2020/02/19  2.0     NaN         NaN  ...   NaN        NaN     NaN        NaN\n",
              "1  2020/02/20  2.0     NaN         NaN  ...   NaN        NaN     NaN        NaN\n",
              "2  2020/02/21  7.0     4.0         NaN  ...   NaN        NaN     NaN        NaN\n",
              "3  2020/02/22  8.0     2.0         NaN  ...   NaN        NaN     NaN        NaN\n",
              "4  2020/02/23  7.0     4.0         1.0  ...   NaN        NaN     NaN        NaN\n",
              "\n",
              "[5 rows x 32 columns]"
            ]
          },
          "metadata": {
            "tags": []
          },
          "execution_count": 20
        }
      ]
    },
    {
      "cell_type": "code",
      "metadata": {
        "id": "4gVCjFQipyk4",
        "colab_type": "code",
        "colab": {
          "base_uri": "https://localhost:8080/",
          "height": 646
        },
        "outputId": "33e92054-f8c8-4c84-f949-ebe7031ac222"
      },
      "source": [
        "irandataT_pvi.info()"
      ],
      "execution_count": 33,
      "outputs": [
        {
          "output_type": "stream",
          "text": [
            "<class 'pandas.core.frame.DataFrame'>\n",
            "RangeIndex: 33 entries, 0 to 32\n",
            "Data columns (total 32 columns):\n",
            "Date               33 non-null object\n",
            "Qom                31 non-null float64\n",
            "Tehran             29 non-null float64\n",
            "Mazandaran         26 non-null float64\n",
            "Alburz             23 non-null float64\n",
            "Semnan             22 non-null float64\n",
            "Golestan           19 non-null float64\n",
            "Qazvin             21 non-null float64\n",
            "Esfahan            23 non-null float64\n",
            "Fars               23 non-null float64\n",
            "Hormozgan          18 non-null float64\n",
            "Koh_boyr           11 non-null float64\n",
            "Charmahal          16 non-null float64\n",
            "Bushehr            14 non-null float64\n",
            "Gilan              27 non-null float64\n",
            "Ardebil            20 non-null float64\n",
            "East_Azerbaijan    22 non-null float64\n",
            "West_Azerbaijan    19 non-null float64\n",
            "Kurdestan          22 non-null float64\n",
            "Zanjan             19 non-null float64\n",
            "Markazi            23 non-null float64\n",
            "Hamedan            20 non-null float64\n",
            "Khuzistan          22 non-null float64\n",
            "Kermanshah         21 non-null float64\n",
            "Lorstan            21 non-null float64\n",
            "Ilam               19 non-null float64\n",
            "Razavi_Khr         20 non-null float64\n",
            "Sis_baluchestan    20 non-null float64\n",
            "Yazd               19 non-null float64\n",
            "South_Khs          17 non-null float64\n",
            "Kerman             18 non-null float64\n",
            "North_Khn          16 non-null float64\n",
            "dtypes: float64(31), object(1)\n",
            "memory usage: 8.4+ KB\n"
          ],
          "name": "stdout"
        }
      ]
    },
    {
      "cell_type": "code",
      "metadata": {
        "id": "XYzFd48Zj0eg",
        "colab_type": "code",
        "colab": {}
      },
      "source": [
        "temp_pvi = irandataT_pvi.groupby('Date')['Qom', 'Tehran', 'Mazandaran', 'Alburz','Semnan' ,'Golestan' ,'Qazvin', 'Esfahan', 'Fars', 'Hormozgan', 'Koh_boyr','Charmahal' ,'Bushehr' ,'Gilan', 'Ardebil', 'East_Azerbaijan', 'West_Azerbaijan', 'Kurdestan','Zanjan' ,'Markazi' ,'Hamedan', 'Khuzistan', 'Kermanshah', 'Lorstan', 'Ilam','Razavi_Khr' ,'Sis_baluchestan' ,'Yazd','South_Khs' ,'Kerman' ,'North_Khn'].sum().reset_index()\n"
      ],
      "execution_count": 0,
      "outputs": []
    },
    {
      "cell_type": "code",
      "metadata": {
        "id": "jOoDTZjcngmq",
        "colab_type": "code",
        "colab": {
          "base_uri": "https://localhost:8080/",
          "height": 81
        },
        "outputId": "15729549-d376-4b69-ef53-6c6cec84a129"
      },
      "source": [
        "temp_pvi = temp_pvi[temp_pvi['Date']==max(temp_pvi['Date'])].reset_index(drop=True)\n",
        "temp_pvi.style.background_gradient(cmap='Pastel1')"
      ],
      "execution_count": 25,
      "outputs": [
        {
          "output_type": "execute_result",
          "data": {
            "text/html": [
              "<style  type=\"text/css\" >\n",
              "    #T_dd0efa7c_6f55_11ea_a46c_0242ac1c0002row0_col1 {\n",
              "            background-color:  #fbb4ae;\n",
              "            color:  #000000;\n",
              "        }    #T_dd0efa7c_6f55_11ea_a46c_0242ac1c0002row0_col2 {\n",
              "            background-color:  #fbb4ae;\n",
              "            color:  #000000;\n",
              "        }    #T_dd0efa7c_6f55_11ea_a46c_0242ac1c0002row0_col3 {\n",
              "            background-color:  #fbb4ae;\n",
              "            color:  #000000;\n",
              "        }    #T_dd0efa7c_6f55_11ea_a46c_0242ac1c0002row0_col4 {\n",
              "            background-color:  #fbb4ae;\n",
              "            color:  #000000;\n",
              "        }    #T_dd0efa7c_6f55_11ea_a46c_0242ac1c0002row0_col5 {\n",
              "            background-color:  #fbb4ae;\n",
              "            color:  #000000;\n",
              "        }    #T_dd0efa7c_6f55_11ea_a46c_0242ac1c0002row0_col6 {\n",
              "            background-color:  #fbb4ae;\n",
              "            color:  #000000;\n",
              "        }    #T_dd0efa7c_6f55_11ea_a46c_0242ac1c0002row0_col7 {\n",
              "            background-color:  #fbb4ae;\n",
              "            color:  #000000;\n",
              "        }    #T_dd0efa7c_6f55_11ea_a46c_0242ac1c0002row0_col8 {\n",
              "            background-color:  #fbb4ae;\n",
              "            color:  #000000;\n",
              "        }    #T_dd0efa7c_6f55_11ea_a46c_0242ac1c0002row0_col9 {\n",
              "            background-color:  #fbb4ae;\n",
              "            color:  #000000;\n",
              "        }    #T_dd0efa7c_6f55_11ea_a46c_0242ac1c0002row0_col10 {\n",
              "            background-color:  #fbb4ae;\n",
              "            color:  #000000;\n",
              "        }    #T_dd0efa7c_6f55_11ea_a46c_0242ac1c0002row0_col11 {\n",
              "            background-color:  #fbb4ae;\n",
              "            color:  #000000;\n",
              "        }    #T_dd0efa7c_6f55_11ea_a46c_0242ac1c0002row0_col12 {\n",
              "            background-color:  #fbb4ae;\n",
              "            color:  #000000;\n",
              "        }    #T_dd0efa7c_6f55_11ea_a46c_0242ac1c0002row0_col13 {\n",
              "            background-color:  #fbb4ae;\n",
              "            color:  #000000;\n",
              "        }    #T_dd0efa7c_6f55_11ea_a46c_0242ac1c0002row0_col14 {\n",
              "            background-color:  #fbb4ae;\n",
              "            color:  #000000;\n",
              "        }    #T_dd0efa7c_6f55_11ea_a46c_0242ac1c0002row0_col15 {\n",
              "            background-color:  #fbb4ae;\n",
              "            color:  #000000;\n",
              "        }    #T_dd0efa7c_6f55_11ea_a46c_0242ac1c0002row0_col16 {\n",
              "            background-color:  #fbb4ae;\n",
              "            color:  #000000;\n",
              "        }    #T_dd0efa7c_6f55_11ea_a46c_0242ac1c0002row0_col17 {\n",
              "            background-color:  #fbb4ae;\n",
              "            color:  #000000;\n",
              "        }    #T_dd0efa7c_6f55_11ea_a46c_0242ac1c0002row0_col18 {\n",
              "            background-color:  #fbb4ae;\n",
              "            color:  #000000;\n",
              "        }    #T_dd0efa7c_6f55_11ea_a46c_0242ac1c0002row0_col19 {\n",
              "            background-color:  #fbb4ae;\n",
              "            color:  #000000;\n",
              "        }    #T_dd0efa7c_6f55_11ea_a46c_0242ac1c0002row0_col20 {\n",
              "            background-color:  #fbb4ae;\n",
              "            color:  #000000;\n",
              "        }    #T_dd0efa7c_6f55_11ea_a46c_0242ac1c0002row0_col21 {\n",
              "            background-color:  #fbb4ae;\n",
              "            color:  #000000;\n",
              "        }    #T_dd0efa7c_6f55_11ea_a46c_0242ac1c0002row0_col22 {\n",
              "            background-color:  #fbb4ae;\n",
              "            color:  #000000;\n",
              "        }    #T_dd0efa7c_6f55_11ea_a46c_0242ac1c0002row0_col23 {\n",
              "            background-color:  #fbb4ae;\n",
              "            color:  #000000;\n",
              "        }    #T_dd0efa7c_6f55_11ea_a46c_0242ac1c0002row0_col24 {\n",
              "            background-color:  #fbb4ae;\n",
              "            color:  #000000;\n",
              "        }    #T_dd0efa7c_6f55_11ea_a46c_0242ac1c0002row0_col25 {\n",
              "            background-color:  #fbb4ae;\n",
              "            color:  #000000;\n",
              "        }    #T_dd0efa7c_6f55_11ea_a46c_0242ac1c0002row0_col26 {\n",
              "            background-color:  #fbb4ae;\n",
              "            color:  #000000;\n",
              "        }    #T_dd0efa7c_6f55_11ea_a46c_0242ac1c0002row0_col27 {\n",
              "            background-color:  #fbb4ae;\n",
              "            color:  #000000;\n",
              "        }    #T_dd0efa7c_6f55_11ea_a46c_0242ac1c0002row0_col28 {\n",
              "            background-color:  #fbb4ae;\n",
              "            color:  #000000;\n",
              "        }    #T_dd0efa7c_6f55_11ea_a46c_0242ac1c0002row0_col29 {\n",
              "            background-color:  #fbb4ae;\n",
              "            color:  #000000;\n",
              "        }    #T_dd0efa7c_6f55_11ea_a46c_0242ac1c0002row0_col30 {\n",
              "            background-color:  #fbb4ae;\n",
              "            color:  #000000;\n",
              "        }    #T_dd0efa7c_6f55_11ea_a46c_0242ac1c0002row0_col31 {\n",
              "            background-color:  #fbb4ae;\n",
              "            color:  #000000;\n",
              "        }</style><table id=\"T_dd0efa7c_6f55_11ea_a46c_0242ac1c0002\" ><thead>    <tr>        <th class=\"blank level0\" ></th>        <th class=\"col_heading level0 col0\" >Date</th>        <th class=\"col_heading level0 col1\" >Qom</th>        <th class=\"col_heading level0 col2\" >Tehran</th>        <th class=\"col_heading level0 col3\" >Mazandaran</th>        <th class=\"col_heading level0 col4\" >Alburz</th>        <th class=\"col_heading level0 col5\" >Semnan</th>        <th class=\"col_heading level0 col6\" >Golestan</th>        <th class=\"col_heading level0 col7\" >Qazvin</th>        <th class=\"col_heading level0 col8\" >Esfahan</th>        <th class=\"col_heading level0 col9\" >Fars</th>        <th class=\"col_heading level0 col10\" >Hormozgan</th>        <th class=\"col_heading level0 col11\" >Koh_boyr</th>        <th class=\"col_heading level0 col12\" >Charmahal</th>        <th class=\"col_heading level0 col13\" >Bushehr</th>        <th class=\"col_heading level0 col14\" >Gilan</th>        <th class=\"col_heading level0 col15\" >Ardebil</th>        <th class=\"col_heading level0 col16\" >East_Azerbaijan</th>        <th class=\"col_heading level0 col17\" >West_Azerbaijan</th>        <th class=\"col_heading level0 col18\" >Kurdestan</th>        <th class=\"col_heading level0 col19\" >Zanjan</th>        <th class=\"col_heading level0 col20\" >Markazi</th>        <th class=\"col_heading level0 col21\" >Hamedan</th>        <th class=\"col_heading level0 col22\" >Khuzistan</th>        <th class=\"col_heading level0 col23\" >Kermanshah</th>        <th class=\"col_heading level0 col24\" >Lorstan</th>        <th class=\"col_heading level0 col25\" >Ilam</th>        <th class=\"col_heading level0 col26\" >Razavi_Khr</th>        <th class=\"col_heading level0 col27\" >Sis_baluchestan</th>        <th class=\"col_heading level0 col28\" >Yazd</th>        <th class=\"col_heading level0 col29\" >South_Khs</th>        <th class=\"col_heading level0 col30\" >Kerman</th>        <th class=\"col_heading level0 col31\" >North_Khn</th>    </tr></thead><tbody>\n",
              "                <tr>\n",
              "                        <th id=\"T_dd0efa7c_6f55_11ea_a46c_0242ac1c0002level0_row0\" class=\"row_heading level0 row0\" >0</th>\n",
              "                        <td id=\"T_dd0efa7c_6f55_11ea_a46c_0242ac1c0002row0_col0\" class=\"data row0 col0\" >2020/03/22</td>\n",
              "                        <td id=\"T_dd0efa7c_6f55_11ea_a46c_0242ac1c0002row0_col1\" class=\"data row0 col1\" >17</td>\n",
              "                        <td id=\"T_dd0efa7c_6f55_11ea_a46c_0242ac1c0002row0_col2\" class=\"data row0 col2\" >249</td>\n",
              "                        <td id=\"T_dd0efa7c_6f55_11ea_a46c_0242ac1c0002row0_col3\" class=\"data row0 col3\" >36</td>\n",
              "                        <td id=\"T_dd0efa7c_6f55_11ea_a46c_0242ac1c0002row0_col4\" class=\"data row0 col4\" >60</td>\n",
              "                        <td id=\"T_dd0efa7c_6f55_11ea_a46c_0242ac1c0002row0_col5\" class=\"data row0 col5\" >0</td>\n",
              "                        <td id=\"T_dd0efa7c_6f55_11ea_a46c_0242ac1c0002row0_col6\" class=\"data row0 col6\" >10</td>\n",
              "                        <td id=\"T_dd0efa7c_6f55_11ea_a46c_0242ac1c0002row0_col7\" class=\"data row0 col7\" >29</td>\n",
              "                        <td id=\"T_dd0efa7c_6f55_11ea_a46c_0242ac1c0002row0_col8\" class=\"data row0 col8\" >87</td>\n",
              "                        <td id=\"T_dd0efa7c_6f55_11ea_a46c_0242ac1c0002row0_col9\" class=\"data row0 col9\" >26</td>\n",
              "                        <td id=\"T_dd0efa7c_6f55_11ea_a46c_0242ac1c0002row0_col10\" class=\"data row0 col10\" >2</td>\n",
              "                        <td id=\"T_dd0efa7c_6f55_11ea_a46c_0242ac1c0002row0_col11\" class=\"data row0 col11\" >0</td>\n",
              "                        <td id=\"T_dd0efa7c_6f55_11ea_a46c_0242ac1c0002row0_col12\" class=\"data row0 col12\" >2</td>\n",
              "                        <td id=\"T_dd0efa7c_6f55_11ea_a46c_0242ac1c0002row0_col13\" class=\"data row0 col13\" >0</td>\n",
              "                        <td id=\"T_dd0efa7c_6f55_11ea_a46c_0242ac1c0002row0_col14\" class=\"data row0 col14\" >38</td>\n",
              "                        <td id=\"T_dd0efa7c_6f55_11ea_a46c_0242ac1c0002row0_col15\" class=\"data row0 col15\" >19</td>\n",
              "                        <td id=\"T_dd0efa7c_6f55_11ea_a46c_0242ac1c0002row0_col16\" class=\"data row0 col16\" >57</td>\n",
              "                        <td id=\"T_dd0efa7c_6f55_11ea_a46c_0242ac1c0002row0_col17\" class=\"data row0 col17\" >28</td>\n",
              "                        <td id=\"T_dd0efa7c_6f55_11ea_a46c_0242ac1c0002row0_col18\" class=\"data row0 col18\" >16</td>\n",
              "                        <td id=\"T_dd0efa7c_6f55_11ea_a46c_0242ac1c0002row0_col19\" class=\"data row0 col19\" >28</td>\n",
              "                        <td id=\"T_dd0efa7c_6f55_11ea_a46c_0242ac1c0002row0_col20\" class=\"data row0 col20\" >36</td>\n",
              "                        <td id=\"T_dd0efa7c_6f55_11ea_a46c_0242ac1c0002row0_col21\" class=\"data row0 col21\" >7</td>\n",
              "                        <td id=\"T_dd0efa7c_6f55_11ea_a46c_0242ac1c0002row0_col22\" class=\"data row0 col22\" >22</td>\n",
              "                        <td id=\"T_dd0efa7c_6f55_11ea_a46c_0242ac1c0002row0_col23\" class=\"data row0 col23\" >19</td>\n",
              "                        <td id=\"T_dd0efa7c_6f55_11ea_a46c_0242ac1c0002row0_col24\" class=\"data row0 col24\" >33</td>\n",
              "                        <td id=\"T_dd0efa7c_6f55_11ea_a46c_0242ac1c0002row0_col25\" class=\"data row0 col25\" >17</td>\n",
              "                        <td id=\"T_dd0efa7c_6f55_11ea_a46c_0242ac1c0002row0_col26\" class=\"data row0 col26\" >42</td>\n",
              "                        <td id=\"T_dd0efa7c_6f55_11ea_a46c_0242ac1c0002row0_col27\" class=\"data row0 col27\" >15</td>\n",
              "                        <td id=\"T_dd0efa7c_6f55_11ea_a46c_0242ac1c0002row0_col28\" class=\"data row0 col28\" >84</td>\n",
              "                        <td id=\"T_dd0efa7c_6f55_11ea_a46c_0242ac1c0002row0_col29\" class=\"data row0 col29\" >15</td>\n",
              "                        <td id=\"T_dd0efa7c_6f55_11ea_a46c_0242ac1c0002row0_col30\" class=\"data row0 col30\" >8</td>\n",
              "                        <td id=\"T_dd0efa7c_6f55_11ea_a46c_0242ac1c0002row0_col31\" class=\"data row0 col31\" >26</td>\n",
              "            </tr>\n",
              "    </tbody></table>"
            ],
            "text/plain": [
              "<pandas.io.formats.style.Styler at 0x7fb83d1e7e48>"
            ]
          },
          "metadata": {
            "tags": []
          },
          "execution_count": 25
        }
      ]
    },
    {
      "cell_type": "code",
      "metadata": {
        "id": "dTrHANWmoBdY",
        "colab_type": "code",
        "colab": {}
      },
      "source": [
        "tm = temp_pvi.melt(id_vars=\"Date\", value_vars=['Qom', 'Tehran', 'Mazandaran', 'Alburz','Semnan' ,'Golestan' ,'Qazvin', 'Esfahan', 'Fars', 'Hormozgan', 'Koh_boyr','Charmahal' ,'Bushehr' ,'Gilan', 'Ardebil', 'East_Azerbaijan', 'West_Azerbaijan', 'Kurdestan','Zanjan' ,'Markazi' ,'Hamedan', 'Khuzistan', 'Kermanshah', 'Lorstan', 'Ilam','Razavi_Khr' ,'Sis_baluchestan' ,'Yazd','South_Khs' ,'Kerman' ,'North_Khn'])"
      ],
      "execution_count": 0,
      "outputs": []
    },
    {
      "cell_type": "code",
      "metadata": {
        "id": "rs63zq8QoNna",
        "colab_type": "code",
        "colab": {}
      },
      "source": [
        "fig = px.treemap(tm, path=[\"variable\"], values=\"value\", height=700, width=900)"
      ],
      "execution_count": 0,
      "outputs": []
    },
    {
      "cell_type": "code",
      "metadata": {
        "id": "5kmhDIiDoWcK",
        "colab_type": "code",
        "colab": {
          "base_uri": "https://localhost:8080/",
          "height": 737
        },
        "outputId": "743af377-65e0-4ec5-bdd7-90d52a04d9e3"
      },
      "source": [
        "fig.show()"
      ],
      "execution_count": 32,
      "outputs": [
        {
          "output_type": "display_data",
          "data": {
            "text/html": [
              "<html>\n",
              "<head><meta charset=\"utf-8\" /></head>\n",
              "<body>\n",
              "    <div>\n",
              "            <script src=\"https://cdnjs.cloudflare.com/ajax/libs/mathjax/2.7.5/MathJax.js?config=TeX-AMS-MML_SVG\"></script><script type=\"text/javascript\">if (window.MathJax) {MathJax.Hub.Config({SVG: {font: \"STIX-Web\"}});}</script>\n",
              "                <script type=\"text/javascript\">window.PlotlyConfig = {MathJaxConfig: 'local'};</script>\n",
              "        <script src=\"https://cdn.plot.ly/plotly-latest.min.js\"></script>    \n",
              "            <div id=\"1a71fabe-df8a-4543-b741-fc742e9262be\" class=\"plotly-graph-div\" style=\"height:700px; width:900px;\"></div>\n",
              "            <script type=\"text/javascript\">\n",
              "                \n",
              "                    window.PLOTLYENV=window.PLOTLYENV || {};\n",
              "                    \n",
              "                if (document.getElementById(\"1a71fabe-df8a-4543-b741-fc742e9262be\")) {\n",
              "                    Plotly.newPlot(\n",
              "                        '1a71fabe-df8a-4543-b741-fc742e9262be',\n",
              "                        [{\"branchvalues\": \"total\", \"domain\": {\"x\": [0.0, 1.0], \"y\": [0.0, 1.0]}, \"hoverlabel\": {\"namelength\": 0}, \"hovertemplate\": \"labels=%{label}<br>value=%{value}<br>parent=%{parent}<br>id=%{id}\", \"ids\": [\"Alburz\", \"Ardebil\", \"Bushehr\", \"Charmahal\", \"East_Azerbaijan\", \"Esfahan\", \"Fars\", \"Gilan\", \"Golestan\", \"Hamedan\", \"Hormozgan\", \"Ilam\", \"Kerman\", \"Kermanshah\", \"Khuzistan\", \"Koh_boyr\", \"Kurdestan\", \"Lorstan\", \"Markazi\", \"Mazandaran\", \"North_Khn\", \"Qazvin\", \"Qom\", \"Razavi_Khr\", \"Semnan\", \"Sis_baluchestan\", \"South_Khs\", \"Tehran\", \"West_Azerbaijan\", \"Yazd\", \"Zanjan\"], \"labels\": [\"Alburz\", \"Ardebil\", \"Bushehr\", \"Charmahal\", \"East_Azerbaijan\", \"Esfahan\", \"Fars\", \"Gilan\", \"Golestan\", \"Hamedan\", \"Hormozgan\", \"Ilam\", \"Kerman\", \"Kermanshah\", \"Khuzistan\", \"Koh_boyr\", \"Kurdestan\", \"Lorstan\", \"Markazi\", \"Mazandaran\", \"North_Khn\", \"Qazvin\", \"Qom\", \"Razavi_Khr\", \"Semnan\", \"Sis_baluchestan\", \"South_Khs\", \"Tehran\", \"West_Azerbaijan\", \"Yazd\", \"Zanjan\"], \"name\": \"\", \"parents\": [\"\", \"\", \"\", \"\", \"\", \"\", \"\", \"\", \"\", \"\", \"\", \"\", \"\", \"\", \"\", \"\", \"\", \"\", \"\", \"\", \"\", \"\", \"\", \"\", \"\", \"\", \"\", \"\", \"\", \"\", \"\"], \"type\": \"treemap\", \"values\": [60.0, 19.0, 0.0, 2.0, 57.0, 87.0, 26.0, 38.0, 10.0, 7.0, 2.0, 17.0, 8.0, 19.0, 22.0, 0.0, 16.0, 33.0, 36.0, 36.0, 26.0, 29.0, 17.0, 42.0, 0.0, 15.0, 15.0, 249.0, 28.0, 84.0, 28.0]}],\n",
              "                        {\"height\": 700, \"legend\": {\"tracegroupgap\": 0}, \"margin\": {\"t\": 60}, \"template\": {\"data\": {\"bar\": [{\"error_x\": {\"color\": \"#2a3f5f\"}, \"error_y\": {\"color\": \"#2a3f5f\"}, \"marker\": {\"line\": {\"color\": \"#E5ECF6\", \"width\": 0.5}}, \"type\": \"bar\"}], \"barpolar\": [{\"marker\": {\"line\": {\"color\": \"#E5ECF6\", \"width\": 0.5}}, \"type\": \"barpolar\"}], \"carpet\": [{\"aaxis\": {\"endlinecolor\": \"#2a3f5f\", \"gridcolor\": \"white\", \"linecolor\": \"white\", \"minorgridcolor\": \"white\", \"startlinecolor\": \"#2a3f5f\"}, \"baxis\": {\"endlinecolor\": \"#2a3f5f\", \"gridcolor\": \"white\", \"linecolor\": \"white\", \"minorgridcolor\": \"white\", \"startlinecolor\": \"#2a3f5f\"}, \"type\": \"carpet\"}], \"choropleth\": [{\"colorbar\": {\"outlinewidth\": 0, \"ticks\": \"\"}, \"type\": \"choropleth\"}], \"contour\": [{\"colorbar\": {\"outlinewidth\": 0, \"ticks\": \"\"}, \"colorscale\": [[0.0, \"#0d0887\"], [0.1111111111111111, \"#46039f\"], [0.2222222222222222, \"#7201a8\"], [0.3333333333333333, \"#9c179e\"], [0.4444444444444444, \"#bd3786\"], [0.5555555555555556, \"#d8576b\"], [0.6666666666666666, \"#ed7953\"], [0.7777777777777778, \"#fb9f3a\"], [0.8888888888888888, \"#fdca26\"], [1.0, \"#f0f921\"]], \"type\": \"contour\"}], \"contourcarpet\": [{\"colorbar\": {\"outlinewidth\": 0, \"ticks\": \"\"}, \"type\": \"contourcarpet\"}], \"heatmap\": [{\"colorbar\": {\"outlinewidth\": 0, \"ticks\": \"\"}, \"colorscale\": [[0.0, \"#0d0887\"], [0.1111111111111111, \"#46039f\"], [0.2222222222222222, \"#7201a8\"], [0.3333333333333333, \"#9c179e\"], [0.4444444444444444, \"#bd3786\"], [0.5555555555555556, \"#d8576b\"], [0.6666666666666666, \"#ed7953\"], [0.7777777777777778, \"#fb9f3a\"], [0.8888888888888888, \"#fdca26\"], [1.0, \"#f0f921\"]], \"type\": \"heatmap\"}], \"heatmapgl\": [{\"colorbar\": {\"outlinewidth\": 0, \"ticks\": \"\"}, \"colorscale\": [[0.0, \"#0d0887\"], [0.1111111111111111, \"#46039f\"], [0.2222222222222222, \"#7201a8\"], [0.3333333333333333, \"#9c179e\"], [0.4444444444444444, \"#bd3786\"], [0.5555555555555556, \"#d8576b\"], [0.6666666666666666, \"#ed7953\"], [0.7777777777777778, \"#fb9f3a\"], [0.8888888888888888, \"#fdca26\"], [1.0, \"#f0f921\"]], \"type\": \"heatmapgl\"}], \"histogram\": [{\"marker\": {\"colorbar\": {\"outlinewidth\": 0, \"ticks\": \"\"}}, \"type\": \"histogram\"}], \"histogram2d\": [{\"colorbar\": {\"outlinewidth\": 0, \"ticks\": \"\"}, \"colorscale\": [[0.0, \"#0d0887\"], [0.1111111111111111, \"#46039f\"], [0.2222222222222222, \"#7201a8\"], [0.3333333333333333, \"#9c179e\"], [0.4444444444444444, \"#bd3786\"], [0.5555555555555556, \"#d8576b\"], [0.6666666666666666, \"#ed7953\"], [0.7777777777777778, \"#fb9f3a\"], [0.8888888888888888, \"#fdca26\"], [1.0, \"#f0f921\"]], \"type\": \"histogram2d\"}], \"histogram2dcontour\": [{\"colorbar\": {\"outlinewidth\": 0, \"ticks\": \"\"}, \"colorscale\": [[0.0, \"#0d0887\"], [0.1111111111111111, \"#46039f\"], [0.2222222222222222, \"#7201a8\"], [0.3333333333333333, \"#9c179e\"], [0.4444444444444444, \"#bd3786\"], [0.5555555555555556, \"#d8576b\"], [0.6666666666666666, \"#ed7953\"], [0.7777777777777778, \"#fb9f3a\"], [0.8888888888888888, \"#fdca26\"], [1.0, \"#f0f921\"]], \"type\": \"histogram2dcontour\"}], \"mesh3d\": [{\"colorbar\": {\"outlinewidth\": 0, \"ticks\": \"\"}, \"type\": \"mesh3d\"}], \"parcoords\": [{\"line\": {\"colorbar\": {\"outlinewidth\": 0, \"ticks\": \"\"}}, \"type\": \"parcoords\"}], \"pie\": [{\"automargin\": true, \"type\": \"pie\"}], \"scatter\": [{\"marker\": {\"colorbar\": {\"outlinewidth\": 0, \"ticks\": \"\"}}, \"type\": \"scatter\"}], \"scatter3d\": [{\"line\": {\"colorbar\": {\"outlinewidth\": 0, \"ticks\": \"\"}}, \"marker\": {\"colorbar\": {\"outlinewidth\": 0, \"ticks\": \"\"}}, \"type\": \"scatter3d\"}], \"scattercarpet\": [{\"marker\": {\"colorbar\": {\"outlinewidth\": 0, \"ticks\": \"\"}}, \"type\": \"scattercarpet\"}], \"scattergeo\": [{\"marker\": {\"colorbar\": {\"outlinewidth\": 0, \"ticks\": \"\"}}, \"type\": \"scattergeo\"}], \"scattergl\": [{\"marker\": {\"colorbar\": {\"outlinewidth\": 0, \"ticks\": \"\"}}, \"type\": \"scattergl\"}], \"scattermapbox\": [{\"marker\": {\"colorbar\": {\"outlinewidth\": 0, \"ticks\": \"\"}}, \"type\": \"scattermapbox\"}], \"scatterpolar\": [{\"marker\": {\"colorbar\": {\"outlinewidth\": 0, \"ticks\": \"\"}}, \"type\": \"scatterpolar\"}], \"scatterpolargl\": [{\"marker\": {\"colorbar\": {\"outlinewidth\": 0, \"ticks\": \"\"}}, \"type\": \"scatterpolargl\"}], \"scatterternary\": [{\"marker\": {\"colorbar\": {\"outlinewidth\": 0, \"ticks\": \"\"}}, \"type\": \"scatterternary\"}], \"surface\": [{\"colorbar\": {\"outlinewidth\": 0, \"ticks\": \"\"}, \"colorscale\": [[0.0, \"#0d0887\"], [0.1111111111111111, \"#46039f\"], [0.2222222222222222, \"#7201a8\"], [0.3333333333333333, \"#9c179e\"], [0.4444444444444444, \"#bd3786\"], [0.5555555555555556, \"#d8576b\"], [0.6666666666666666, \"#ed7953\"], [0.7777777777777778, \"#fb9f3a\"], [0.8888888888888888, \"#fdca26\"], [1.0, \"#f0f921\"]], \"type\": \"surface\"}], \"table\": [{\"cells\": {\"fill\": {\"color\": \"#EBF0F8\"}, \"line\": {\"color\": \"white\"}}, \"header\": {\"fill\": {\"color\": \"#C8D4E3\"}, \"line\": {\"color\": \"white\"}}, \"type\": \"table\"}]}, \"layout\": {\"annotationdefaults\": {\"arrowcolor\": \"#2a3f5f\", \"arrowhead\": 0, \"arrowwidth\": 1}, \"coloraxis\": {\"colorbar\": {\"outlinewidth\": 0, \"ticks\": \"\"}}, \"colorscale\": {\"diverging\": [[0, \"#8e0152\"], [0.1, \"#c51b7d\"], [0.2, \"#de77ae\"], [0.3, \"#f1b6da\"], [0.4, \"#fde0ef\"], [0.5, \"#f7f7f7\"], [0.6, \"#e6f5d0\"], [0.7, \"#b8e186\"], [0.8, \"#7fbc41\"], [0.9, \"#4d9221\"], [1, \"#276419\"]], \"sequential\": [[0.0, \"#0d0887\"], [0.1111111111111111, \"#46039f\"], [0.2222222222222222, \"#7201a8\"], [0.3333333333333333, \"#9c179e\"], [0.4444444444444444, \"#bd3786\"], [0.5555555555555556, \"#d8576b\"], [0.6666666666666666, \"#ed7953\"], [0.7777777777777778, \"#fb9f3a\"], [0.8888888888888888, \"#fdca26\"], [1.0, \"#f0f921\"]], \"sequentialminus\": [[0.0, \"#0d0887\"], [0.1111111111111111, \"#46039f\"], [0.2222222222222222, \"#7201a8\"], [0.3333333333333333, \"#9c179e\"], [0.4444444444444444, \"#bd3786\"], [0.5555555555555556, \"#d8576b\"], [0.6666666666666666, \"#ed7953\"], [0.7777777777777778, \"#fb9f3a\"], [0.8888888888888888, \"#fdca26\"], [1.0, \"#f0f921\"]]}, \"colorway\": [\"#636efa\", \"#EF553B\", \"#00cc96\", \"#ab63fa\", \"#FFA15A\", \"#19d3f3\", \"#FF6692\", \"#B6E880\", \"#FF97FF\", \"#FECB52\"], \"font\": {\"color\": \"#2a3f5f\"}, \"geo\": {\"bgcolor\": \"white\", \"lakecolor\": \"white\", \"landcolor\": \"#E5ECF6\", \"showlakes\": true, \"showland\": true, \"subunitcolor\": \"white\"}, \"hoverlabel\": {\"align\": \"left\"}, \"hovermode\": \"closest\", \"mapbox\": {\"style\": \"light\"}, \"paper_bgcolor\": \"white\", \"plot_bgcolor\": \"#E5ECF6\", \"polar\": {\"angularaxis\": {\"gridcolor\": \"white\", \"linecolor\": \"white\", \"ticks\": \"\"}, \"bgcolor\": \"#E5ECF6\", \"radialaxis\": {\"gridcolor\": \"white\", \"linecolor\": \"white\", \"ticks\": \"\"}}, \"scene\": {\"xaxis\": {\"backgroundcolor\": \"#E5ECF6\", \"gridcolor\": \"white\", \"gridwidth\": 2, \"linecolor\": \"white\", \"showbackground\": true, \"ticks\": \"\", \"zerolinecolor\": \"white\"}, \"yaxis\": {\"backgroundcolor\": \"#E5ECF6\", \"gridcolor\": \"white\", \"gridwidth\": 2, \"linecolor\": \"white\", \"showbackground\": true, \"ticks\": \"\", \"zerolinecolor\": \"white\"}, \"zaxis\": {\"backgroundcolor\": \"#E5ECF6\", \"gridcolor\": \"white\", \"gridwidth\": 2, \"linecolor\": \"white\", \"showbackground\": true, \"ticks\": \"\", \"zerolinecolor\": \"white\"}}, \"shapedefaults\": {\"line\": {\"color\": \"#2a3f5f\"}}, \"ternary\": {\"aaxis\": {\"gridcolor\": \"white\", \"linecolor\": \"white\", \"ticks\": \"\"}, \"baxis\": {\"gridcolor\": \"white\", \"linecolor\": \"white\", \"ticks\": \"\"}, \"bgcolor\": \"#E5ECF6\", \"caxis\": {\"gridcolor\": \"white\", \"linecolor\": \"white\", \"ticks\": \"\"}}, \"title\": {\"x\": 0.05}, \"xaxis\": {\"automargin\": true, \"gridcolor\": \"white\", \"linecolor\": \"white\", \"ticks\": \"\", \"title\": {\"standoff\": 15}, \"zerolinecolor\": \"white\", \"zerolinewidth\": 2}, \"yaxis\": {\"automargin\": true, \"gridcolor\": \"white\", \"linecolor\": \"white\", \"ticks\": \"\", \"title\": {\"standoff\": 15}, \"zerolinecolor\": \"white\", \"zerolinewidth\": 2}}}, \"width\": 900},\n",
              "                        {\"responsive\": true}\n",
              "                    ).then(function(){\n",
              "                            \n",
              "var gd = document.getElementById('1a71fabe-df8a-4543-b741-fc742e9262be');\n",
              "var x = new MutationObserver(function (mutations, observer) {{\n",
              "        var display = window.getComputedStyle(gd).display;\n",
              "        if (!display || display === 'none') {{\n",
              "            console.log([gd, 'removed!']);\n",
              "            Plotly.purge(gd);\n",
              "            observer.disconnect();\n",
              "        }}\n",
              "}});\n",
              "\n",
              "// Listen for the removal of the full notebook cells\n",
              "var notebookContainer = gd.closest('#notebook-container');\n",
              "if (notebookContainer) {{\n",
              "    x.observe(notebookContainer, {childList: true});\n",
              "}}\n",
              "\n",
              "// Listen for the clearing of the current output cell\n",
              "var outputEl = gd.closest('.output');\n",
              "if (outputEl) {{\n",
              "    x.observe(outputEl, {childList: true});\n",
              "}}\n",
              "\n",
              "                        })\n",
              "                };\n",
              "                \n",
              "            </script>\n",
              "        </div>\n",
              "</body>\n",
              "</html>"
            ]
          },
          "metadata": {
            "tags": []
          }
        }
      ]
    }
  ]
}